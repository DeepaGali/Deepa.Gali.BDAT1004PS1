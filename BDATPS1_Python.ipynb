{
 "cells": [
  {
   "cell_type": "markdown",
   "id": "bace7ddb",
   "metadata": {},
   "source": [
    "#Question 6 Python\n",
    "16. You can turn a word into pig-Latin using the following two rules (simplified):\n",
    "• If the word starts with a consonant, move that letter to the end and append\n",
    "'ay'. For example, 'happy' becomes 'appyhay' and 'pencil' becomes 'encilpay'.\n",
    "• If the word starts with a vowel, simply append 'way' to the end of the word.\n",
    "For example, 'enter' becomes 'enterway' and 'other' becomes 'otherway' . For\n",
    "our purposes, there are 5 vowels: a, e, i, o, u (so we count y as a consonant).\n",
    "Write a function pig() that takes a word (i.e., a string) as input and returns its pigLatin form. Your function should still work if the input word contains upper case\n",
    "characters. Your output should always be lower case however.\n",
    ">>> pig('happy')\n",
    "'appyhay'\n",
    ">>> pig('Enter')\n",
    "'enterway'"
   ]
  },
  {
   "cell_type": "code",
   "execution_count": 2,
   "id": "ca18a919",
   "metadata": {},
   "outputs": [
    {
     "name": "stdout",
     "output_type": "stream",
     "text": [
      "Enter any word: enter\n",
      "enterway\n"
     ]
    }
   ],
   "source": [
    "def pig(word): #function\n",
    "    \n",
    "    vowel = \"aeiouAEIOU\" #declaring caps and small vowels\n",
    "    firstLetter = word[0]\n",
    "    remainingWord = word[1:]\n",
    "    if firstLetter  in vowel:#looping through vowels\n",
    "       print(word+\"way\")     \n",
    "    else: #when first letter is consonent\n",
    "        print(remainingWord+firstLetter+\"ay\")\n",
    "      \n",
    "word = input(\"Enter any word: \")    \n",
    "pig(word) #function call"
   ]
  },
  {
   "cell_type": "markdown",
   "id": "e6f61e20",
   "metadata": {},
   "source": [
    "Question 7 Python\n",
    "File bloodtype1.txt records blood-types of patients (A, B, AB, O or OO) at a clinic.\n",
    "Write a function bldcount() that reads the file with name name and reports (i.e.,\n",
    "prints) how many patients there are in each bloodtype.\n",
    ">>> bldcount('bloodtype.txt')\n",
    "There are 10 patients of blood type A.\n",
    "There is one patient of blood type B.\n",
    "There are 10 patients of blood type AB.\n",
    "There are 12 patients of blood type O.\n",
    "There are no patients of blood type OO."
   ]
  },
  {
   "cell_type": "code",
   "execution_count": 8,
   "id": "76c67fc5",
   "metadata": {},
   "outputs": [
    {
     "name": "stdout",
     "output_type": "stream",
     "text": [
      "Enter the path of your file :\n",
      "C:\\\\Users\\\\gdeep\\\\Documents\\\\BDAT\\\\bloodtype1.txt\n",
      "['AB', 'B', 'O', 'A']\n",
      "There are 13 patients of bloodtype AB.\n",
      "There are 1 patients of bloodtype B.\n",
      "There are 15 patients of bloodtype O.\n",
      "There are 15 patients of bloodtype A.\n"
     ]
    }
   ],
   "source": [
    "def bldcount(fileName): #function\n",
    "    #fileName =\"C:\\\\Users\\\\gdeep\\\\Documents\\\\BDAT\\\\bloodtype1.txt\"\n",
    "    fileOpen = open(fileName, \"r\") #open and reading the file\n",
    "    data = fileOpen.read()\n",
    "    words = data.split()\n",
    "    fileOpen.close() #closing the file\n",
    "    bldtype_list = [] \n",
    "    #gettig unique values\n",
    "    for each in words:\n",
    "        if each not in bldtype_list:\n",
    "            bldtype_list.append(each)\n",
    "    print(bldtype_list)\n",
    "    #counting unique values\n",
    "    for eachbld in bldtype_list:\n",
    "        if words.count(eachbld)==0: \n",
    "            print(\"There are no patients of blood type \",eachbld,'.')\n",
    "        else: \n",
    "            print(\"There are {} patients of bloodtype {}.\".format(words.count(eachbld), eachbld))\n",
    "        \n",
    "    \n",
    "fileName = input(\"Enter the path of your file :\\n\") # input file path\n",
    "bldcount(fileName)   #function call       \n",
    "          "
   ]
  },
  {
   "cell_type": "markdown",
   "id": "d2d08d21",
   "metadata": {},
   "source": [
    "Question 8 Python\n",
    "Write a function curconv() that takes as input:\n",
    "1. a currency represented using a string (e.g., 'JPY' for the Japanese Yen or\n",
    "'EUR' for the Euro)\n",
    "2. an amount\n",
    "and then converts and returns the amount in US dollars.\n",
    ">>> curconv('EUR', 100)\n",
    "122.96544\n",
    ">>> curconv('JPY', 100)\n",
    "1.241401\n"
   ]
  },
  {
   "cell_type": "code",
   "execution_count": 2,
   "id": "252f788f",
   "metadata": {},
   "outputs": [
    {
     "name": "stdout",
     "output_type": "stream",
     "text": [
      "122.96544\n",
      "100 Euro is converted to US dollars is 122.96544\n",
      "1.241401\n",
      "100 Japanese Yen is converted to US dollars is 1.241401\n",
      "51.725785\n",
      "50 Australian Dollar is converted to US dollars is 51.725785\n"
     ]
    }
   ],
   "source": [
    "def curconv(currName,amount):           #function\n",
    "    fileName =\"C:\\\\Users\\\\gdeep\\\\Documents\\\\BDAT\\\\currencies.txt\"\n",
    "    fileOpen = open(fileName, \"r\") #open and reading the file\n",
    "    lines= fileOpen.readlines()\n",
    "    #take each line and check the currency name \n",
    "    for line in lines:\n",
    "        fields = line.split()\n",
    "        if (fields[0]==currName): \n",
    "            currencyData = line.strip().split(\"\\t\") \n",
    "            convCurr = float(currencyData[1])*amount #calculate currency amount\n",
    "            print(convCurr)\n",
    "            print(\"{} {} is converted to US dollars is {}\" .format(amount,currencyData[2],convCurr))\n",
    "     \n",
    " #function call with different parameters    \n",
    "curconv(\"EUR\",100) \n",
    "curconv('JPY', 100)\n",
    "curconv('AUD', 50)"
   ]
  },
  {
   "cell_type": "code",
   "execution_count": null,
   "id": "8e5631f2",
   "metadata": {},
   "outputs": [],
   "source": [
    "Question 9 Python\n",
    "Each of the following will cause an exception (an error). Identify what type of\n",
    "exception each will cause.\n",
    "Trying to add incompatible variables, as in\n",
    "adding 6 + ‘a’\n",
    "Referring to the 12th item of a list that has only 10\n",
    "items\n",
    "Using a value that is out of range for a function’s\n",
    "input, such as calling math.sqrt(-1.0)\n",
    "Using an undeclared variable, such as print(x)\n",
    "when x has not been defined\n",
    "Trying to open a file that does not exist, such as\n",
    "mistyping the file name or looking in the wrong\n",
    "directory. "
   ]
  },
  {
   "cell_type": "code",
   "execution_count": 9,
   "id": "5b97d58b",
   "metadata": {},
   "outputs": [
    {
     "ename": "SyntaxError",
     "evalue": "invalid character '‘' (U+2018) (Temp/ipykernel_6728/1130302456.py, line 1)",
     "output_type": "error",
     "traceback": [
      "\u001b[1;36m  File \u001b[1;32m\"C:\\Users\\gdeep\\AppData\\Local\\Temp/ipykernel_6728/1130302456.py\"\u001b[1;36m, line \u001b[1;32m1\u001b[0m\n\u001b[1;33m    t= 6 + ‘a’ #SyntaxError\u001b[0m\n\u001b[1;37m           ^\u001b[0m\n\u001b[1;31mSyntaxError\u001b[0m\u001b[1;31m:\u001b[0m invalid character '‘' (U+2018)\n"
     ]
    }
   ],
   "source": [
    "#a\n",
    "t=6+'a'                          #TypeError \n",
    "print(t)                         #unsupported operand type(s) for +: 'int' and 'str'\n",
    "\n",
    "#b\n",
    "arrayTen = [1,2,3,4,5,6,7,8,9,0] #IndexError\n",
    "arrayTen[12]                     #list index out of range\n",
    "\n",
    "#c\n",
    "import math                      #ValueError\n",
    "math.sqrt(-1.0)                  #math domain error\n",
    "\n",
    "#d\n",
    "print(x)                         #NameError #name 'x' is not defined\n",
    "\n",
    "#e\n",
    "fileOpen = open(\"C:\\\\Users\\\\gdeep\\\\Documents\\\\BDAT\\\\currencis.txt\", \"r\") \n",
    "                                #FileNotFoundError\n",
    "                                #No such file or directory: 'C:\\\\Users\\\\gdeep\\\\Documents\\\\BDAT\\\\currencis.txt'"
   ]
  },
  {
   "cell_type": "code",
   "execution_count": null,
   "id": "d97d2d55",
   "metadata": {},
   "outputs": [],
   "source": [
    "Question 10 Python\n",
    "Encryption is the process of hiding the meaning of a text by substituting letters in the\n",
    "message with other letters, according to some system. If the process is successful, no\n",
    "one but the intended recipient can understand the encrypted message. Cryptanalysis\n",
    "refers to attempts to undo the encryption, even if some details of the encryption are\n",
    "unknown (for example, if an encrypted message has been intercepted). The first step\n",
    "of cryptanalysis is often to build up a table of letter frequencies in the encrypted text.\n",
    "Assume that the string letters is already defined as\n",
    "'abcdefghijklmnopqrstuvwxyz'. Write a function called frequencies()\n",
    "that takes a string as its only parameter, and returns a list of integers, showing the\n",
    "number of times each character appears in the text. Your function may ignore any\n",
    "characters that are not in letters.\n",
    ">>> frequencies('The quick red fox got bored and went home.')\n",
    "[1, 1, 1, 3, 5, 1, 1, 2, 1, 0, 1, 0, 1, 2, 4, 0, 1, 2, 0, 2, 1, 0, 1, 1, 0, 0]\n",
    ">>> frequencies('apple')"
   ]
  },
  {
   "cell_type": "code",
   "execution_count": 6,
   "id": "4ee7ef3d",
   "metadata": {},
   "outputs": [
    {
     "name": "stdout",
     "output_type": "stream",
     "text": [
      "[1, 1, 1, 3, 5, 1, 1, 2, 1, 0, 1, 0, 1, 2, 4, 0, 1, 2, 0, 2, 1, 0, 1, 1, 0, 0]\n",
      "[1, 0, 0, 0, 1, 0, 0, 0, 0, 0, 0, 1, 0, 0, 0, 2, 0, 0, 0, 0, 0, 0, 0, 0, 0, 0]\n"
     ]
    }
   ],
   "source": [
    "def frequencies(string):      #function\n",
    "    freqArray = []\n",
    "    letters ='abcdefghijklmnopqrstuvwxyz'\n",
    "    for i in letters:        #iterate through letters\n",
    "        freqArray.append(string.count(i))     # add the cout of each letter to array\n",
    "    print (freqArray)\n",
    "\n",
    "#function call with different parameters    \n",
    "frequencies('The quick red fox got bored and went home.')\n",
    "frequencies('apple')"
   ]
  },
  {
   "cell_type": "code",
   "execution_count": null,
   "id": "5c68d776",
   "metadata": {},
   "outputs": [],
   "source": []
  }
 ],
 "metadata": {
  "kernelspec": {
   "display_name": "Python 3 (ipykernel)",
   "language": "python",
   "name": "python3"
  },
  "language_info": {
   "codemirror_mode": {
    "name": "ipython",
    "version": 3
   },
   "file_extension": ".py",
   "mimetype": "text/x-python",
   "name": "python",
   "nbconvert_exporter": "python",
   "pygments_lexer": "ipython3",
   "version": "3.9.7"
  }
 },
 "nbformat": 4,
 "nbformat_minor": 5
}
