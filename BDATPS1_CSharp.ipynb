{
 "cells": [
  {
   "cell_type": "markdown",
   "id": "18799311",
   "metadata": {},
   "source": [
    "#Question1 c#\n",
    "\n",
    "What data type is each of the following?\n",
    "5\n",
    "5.0\n",
    "5 > 1\n",
    "'5'\n",
    "5 * 2\n",
    "'5' * 2\n",
    "'5' + '2'\n",
    "5 / 2\n",
    "5 % 2\n",
    "{5, 2, 1}\n",
    "5 == 3\n",
    "Pi (the number)"
   ]
  },
  {
   "cell_type": "code",
   "execution_count": 10,
   "id": "e81c9f48",
   "metadata": {
    "scrolled": true
   },
   "outputs": [
    {
     "name": "stdout",
     "output_type": "stream",
     "text": [
      "Type of 5 is System.Int32\n",
      "Type of 5 is System.Double\n",
      "Type of True is System.Boolean\n",
      "Type of 5 is System.Char\n",
      "Type of 10 is System.Int32\n",
      "Type of 106 is System.Int32\n",
      "Type of 103 is System.Int32\n",
      "Type of 2 is System.Int32\n",
      "Type of 1 is System.Int32\n",
      "Type of {5,2,1} is System.Int32[]\n",
      "Type of False is System.Boolean\n",
      "Type of 3.141592653589793 is System.Double\n"
     ]
    }
   ],
   "source": [
    "var a=5; //integer Data Type\n",
    "Console.WriteLine(\"Type of \"+a+\" is \"+a.GetType());\n",
    "var b=5.0; //double Data Type\n",
    "Console.WriteLine(\"Type of \"+b+\" is \"+b.GetType());\n",
    "var c=5 > 1; //boolean Data type\n",
    "Console.WriteLine(\"Type of \"+c+\" is \"+c.GetType());\n",
    "var d='5'; //char data type\n",
    "Console.WriteLine(\"Type of \"+d+\" is \"+d.GetType());\n",
    "var e=5 * 2; //integer multiplication\n",
    "Console.WriteLine(\"Type of \"+e+\" is \"+e.GetType());\n",
    "var f='5' * 2;\n",
    "Console.WriteLine(\"Type of \"+f+\" is \"+f.GetType());\n",
    "var g='5' + '2';\n",
    "Console.WriteLine(\"Type of \"+g+\" is \"+g.GetType());\n",
    "var h=5 / 2;\n",
    "Console.WriteLine(\"Type of \"+h+\" is \"+h.GetType());\n",
    "var i=5 % 2;\n",
    "Console.WriteLine(\"Type of \"+i+\" is \"+i.GetType());\n",
    "new int[] j={5, 2, 1};\n",
    "Console.WriteLine(\"Type of {\"+j[0]+\",\"+j[1]+\",\"+j[2]+\"} is \"+j.GetType());\n",
    "var k=(5 == 3);\n",
    "Console.WriteLine(\"Type of \"+k+\" is \"+k.GetType());\n",
    "var l= Math.PI;\n",
    "Console.WriteLine(\"Type of \"+l+\" is \"+l.GetType());"
   ]
  },
  {
   "cell_type": "markdown",
   "id": "a4c95592",
   "metadata": {},
   "source": []
  },
  {
   "cell_type": "markdown",
   "id": "0fe4ad93",
   "metadata": {},
   "source": [
    "#Question 2 C#\n",
    "\n",
    "Write (and evaluate) C# expressions that answer these questions:\n",
    "a. How many letters are there in 'Supercalifragilisticexpialidocious'?\n",
    "b. Does 'Supercalifragilisticexpialidocious' contain 'ice' as a substring?\n",
    "c.Which of the following words is the longest:\n",
    "Supercalifragilisticexpialidocious, Honorificabilitudinitatibus, or\n",
    "Bababadalgharaghtakamminarronnkonn?\n",
    "d. Which composer comes first in the dictionary: 'Berlioz', 'Borodin', 'Brian',\n",
    "'Bartok', 'Bellini', 'Buxtehude', 'Bernstein'. Which one comes last?"
   ]
  },
  {
   "cell_type": "code",
   "execution_count": 3,
   "id": "2ad097c8",
   "metadata": {},
   "outputs": [
    {
     "name": "stdout",
     "output_type": "stream",
     "text": [
      "34\n",
      "34\n",
      "Does string contain 'ice' as a substring? True\n",
      "Supercalifragilisticexpialidocious , Bababadalgharaghtakamminarronnkonn are the longest words\n",
      "The correct order is: Bartok, Bellini, Berlioz, Bernstein, Borodin, Brian, Buxtehude\n"
     ]
    }
   ],
   "source": [
    "//a. How many letters are there in 'Supercalifragilisticexpialidocious'?\n",
    "string theWord = \"Supercalifragilisticexpialidocious\";\n",
    "int numOfLetters = theWord.Length; //calculating word length\n",
    "Console.WriteLine(numOfLetters);\n",
    "\n",
    "//a. another  method\n",
    "int numberOfLetters = 0;\n",
    "foreach (char letter in theWord)\n",
    "{\n",
    "    numberOfLetters++;\n",
    "}\n",
    "Console.WriteLine(numberOfLetters);\n",
    "\n",
    "\n",
    "//b. Does 'Supercalifragilisticexpialidocious' contain 'ice' as a substring? \n",
    "Boolean containsWordIce = theWord.Contains(\"ice\");\n",
    "Console.WriteLine($\"Does string contain 'ice' as a substring? {containsWordIce}\");\n",
    "\n",
    "\n",
    "//c.Which of the following words is the longest: Supercalifragilisticexpialidocious, Honorificabilitudinitatibus, or Bababadalgharaghtakamminarronnkonn? \n",
    "new string[] findWordLength={\"Supercalifragilisticexpialidocious\", \"Honorificabilitudinitatibus\", \n",
    "                             \"Bababadalgharaghtakamminarronnkonn\"};\n",
    "int maxLength=0;\n",
    "int lenfthyWordsCount =0;\n",
    "string lengthyWord=\"\";\n",
    "//checking each word count and adding the biggest to the variable\n",
    "for (int i = 0; i < findWordLength.Length; i++)\n",
    "{\n",
    "    if (maxLength<findWordLength[i].Length){\n",
    "        maxLength = findWordLength[i].Length;\n",
    "        lengthyWord = findWordLength[i];\n",
    "        }\n",
    "    // appending if the length of the words are similar count\n",
    "    else if (maxLength == findWordLength[i].Length){\n",
    "        lengthyWord = lengthyWord +\" , \"+findWordLength[i];\n",
    "        lenfthyWordsCount +=1;\n",
    "    }\n",
    "}\n",
    "//printing the longest word/words\n",
    "if (lenfthyWordsCount == 0)\n",
    "    Console.WriteLine($\"{lengthyWord} is the longest word\");\n",
    "else\n",
    "    Console.WriteLine($\"{lengthyWord} are the longest words\");\n",
    "\n",
    "\n",
    "//d. Which composer comes first in the dictionary: 'Berlioz', 'Borodin', 'Brian','Bartok', 'Bellini', 'Buxtehude', 'Bernstein'. Which one comes last?\n",
    "    \n",
    "  string[] Dict = new string[] {\"Berlioz\", \"Borodin\", \"Brian\", \"Bartok\", \"Bellini\", \"Buxtehude\", \"Bernstein\"};\n",
    "  // StringComparer.Ordinal: order by Ascii values; \n",
    "    // Reference: https://stackoverflow.com/questions/57570327/why-does-compareto-not-sort-my-string-using-ascii-code-ordering\n",
    "  var orderedDict = Dict.OrderBy(item => item, StringComparer.Ordinal);\n",
    "  Console.WriteLine(\"The correct order is: \"+string.Join(\", \", orderedDict));"
   ]
  },
  {
   "cell_type": "code",
   "execution_count": null,
   "id": "ab60f615",
   "metadata": {},
   "outputs": [],
   "source": [
    "Question 3 C#\n",
    "Implement function triangleArea(a,b,c) that takes as input the lengths of the 3\n",
    "sides of a triangle and returns the area of the triangle. By Heron's formula, the area\n",
    "of a triangle with side lengths a, b, and c is\n",
    "s(s - a)(s -b)(s -c)\n",
    ", where\n",
    "s = (a+b+c)/2.\n",
    ">>> triangleArea(2,2,2)\n",
    "1.7320508075688772\n"
   ]
  },
  {
   "cell_type": "code",
   "execution_count": 2,
   "id": "6d34da3e",
   "metadata": {},
   "outputs": [
    {
     "name": "stdout",
     "output_type": "stream",
     "text": [
      "Enter the length of First side:2 \n",
      "Enter the length of Second side:2\n",
      "Enter the length of Third side:2\n",
      "The Area of the triangle is 1.7320508075688772\n"
     ]
    }
   ],
   "source": [
    "int a = Convert.ToInt32(Console.ReadLine());\n",
    "Console.WriteLine(\"Enter the length of First side:2 \");\n",
    "Console.WriteLine(\"Enter the length of Second side:2\");\n",
    "int b = Convert.ToInt32(Console.ReadLine());\n",
    "Console.WriteLine(\"Enter the length of Third side:2\");\n",
    "int c = Convert.ToInt32(Console.ReadLine());\n",
    "a=b=c=2; // input\n",
    "\n",
    "//calculating the area\n",
    "double s = (a + b + c) / 2; //calculating the area\n",
    "double area = Math.Sqrt(s * (s - a) * (s - b) * (s - c));\n",
    "Console.WriteLine($\"The Area of the triangle is {area}\");"
   ]
  },
  {
   "cell_type": "markdown",
   "id": "c420554d",
   "metadata": {},
   "source": [
    "Question 4 C#\n",
    "Write a program in C# Sharp to separate odd and even integers in separate arrays.\n",
    "Go to the editor\n",
    "Test Data :\n",
    "Input the number of elements to be stored in the array :5\n",
    "Input 5 elements in the array :\n",
    "element - 0 : 25\n",
    "element - 1 : 47\n",
    "element - 2 : 42\n",
    "element - 3 : 56\n",
    "element - 4 : 32\n",
    "Expected Output:\n",
    "The Even elements are:\n",
    "42 56 32\n",
    "The Odd elements are :\n",
    "25 47"
   ]
  },
  {
   "cell_type": "code",
   "execution_count": 5,
   "id": "2e67738c",
   "metadata": {
    "scrolled": true
   },
   "outputs": [
    {
     "name": "stdout",
     "output_type": "stream",
     "text": [
      "Input the number of elements to be stored in the array :\n",
      "Input 0 elements in the array :\n",
      " \n",
      "Even Numbers are:\n",
      "\n",
      "Odd Numbers are:\n"
     ]
    }
   ],
   "source": [
    "Console.WriteLine(\"Input the number of elements to be stored in the array :\");\n",
    "int totElements = Convert.ToInt32(Console.ReadLine());\n",
    "Console.WriteLine($\"Input {totElements} elements in the array :\\n \");\n",
    "int[] arr = new int[totElements];\n",
    "int[] evenArr = new int[totElements];\n",
    "int[] oddArr = new int[totElements];\n",
    "int j = 0,k=0;\n",
    "// looping the number of times equal to total elements\n",
    "for (int i = 0; i < totElements; i++)\n",
    "{\n",
    "    Console.WriteLine(\"element -\" + i + \":\");\n",
    "    arr[i] = Convert.ToInt32(Console.ReadLine());\n",
    "    //check if even\n",
    "    if (arr[i] % 2 == 0)\n",
    "    {\n",
    "        evenArr[j] = arr[i];\n",
    "        j++;\n",
    "    }\n",
    "    else { \n",
    "        oddArr[k]=arr[i]; // adding to odd array\n",
    "        k++;\n",
    "    }\n",
    "}\n",
    "Console.WriteLine(\"Even Numbers are:\");\n",
    "for (int i = 0; i < j; i++)\n",
    "{\n",
    "    Console.Write(\"{0} \", evenArr[i]);\n",
    "}\n",
    "Console.WriteLine(\"\\nOdd Numbers are:\");\n",
    "for (int i = 0; i < k; i++)\n",
    "{\n",
    "    Console.Write(\"{0} \", oddArr[i]);\n",
    "}\n",
    "\n"
   ]
  },
  {
   "cell_type": "markdown",
   "id": "81a75220",
   "metadata": {},
   "source": [
    "Question 5 C#\n",
    "a. Write a function inside(x,y,x1,y1,x2,y2) that returns True or False\n",
    "depending on whether the point (x,y) lies in the rectangle with lower left\n",
    "corner (x1,y1) and upper right corner (x2,y2).\n",
    ">>> inside(1,1,0,0,2,3)\n",
    "True\n",
    ">>> inside(-1,-1,0,0,2,3)\n",
    "False\n",
    "b. Use function inside() from part a. to write an expression that tests whether\n",
    "the point (1,1) lies in both of the following rectangles: one with lower left\n",
    "corner (0.3, 0.5) and upper right corner (1.1, 0.7) and the other with lower\n",
    "left corner (0.5, 0.2) and upper right corner (1.1, 2). "
   ]
  },
  {
   "cell_type": "code",
   "execution_count": 6,
   "id": "1bdbfbd8",
   "metadata": {},
   "outputs": [
    {
     "name": "stdout",
     "output_type": "stream",
     "text": [
      "Give the value of X :Give the value of Y : Give the value of X1 :Give the value of Y1 :Give the value of X2 : Give the value of Y2 : false\n",
      " No,The point does not lie in both the rectangles\n"
     ]
    }
   ],
   "source": [
    "// getting values of point x, y and rectangle x1,y1 and x2,y2\n",
    "\n",
    "        Console.Write(\"Give the value of X :\");\n",
    "        double x = Convert.ToDouble(Console.ReadLine());\n",
    "        Console.Write(\"Give the value of Y : \");\n",
    "        double y = Convert.ToDouble(Console.ReadLine());\n",
    "        Console.Write(\"Give the value of X1 :\");\n",
    "        double x1 = Convert.ToDouble(Console.ReadLine());\n",
    "        Console.Write(\"Give the value of Y1 :\");\n",
    "        double y1 = Convert.ToDouble(Console.ReadLine());\n",
    "        Console.Write(\"Give the value of X2 : \");\n",
    "        double x2 = Convert.ToDouble(Console.ReadLine());\n",
    "        Console.Write(\"Give the value of Y2 : \");\n",
    "        double y2 = Convert.ToDouble(Console.ReadLine());\n",
    "// checking if x,y lies in the rectangle (x1,y1 and x2,y2)\n",
    "        if (inside(x, y, x1, y1, x2, y2))\n",
    "            Console.Write(\"The point lies inside the rectange: True\");\n",
    "        else\n",
    "            Console.Write(\"false\");\n",
    "\n",
    "// b. Use function inside()  to write an expression that tests whether the point (1,1) lies in both of the following rectangles\n",
    "    //check the point(1,1) lies inside the rectagle\n",
    "        if (inside(1, 1, 0.3, 0.5, 1.1, 0.7) && inside(1, 1, 0.5, 0.2, 1.1, 2))\n",
    "            Console.Write(\"\\n The point lies in both the rectangles\");\n",
    "        Console.WriteLine(\"\\n No,The point does not lie in both the rectangles\");\n",
    "   \n",
    "//function inside checking if x,y lies in the rectangle (x1,y1 and x2,y2)\n",
    "    static bool inside(double x, double y, double x1, double y1, double x2, double y2)\n",
    "    {\n",
    "        //if statement\n",
    "        if (x > x1 && x < x2 && y > y1 && y < y2)\n",
    "            return true;\n",
    "        return false;\n",
    "    }"
   ]
  },
  {
   "cell_type": "code",
   "execution_count": null,
   "id": "1487948c",
   "metadata": {},
   "outputs": [],
   "source": []
  }
 ],
 "metadata": {
  "kernelspec": {
   "display_name": ".NET (C#)",
   "language": "C#",
   "name": ".net-csharp"
  },
  "language_info": {
   "file_extension": ".cs",
   "mimetype": "text/x-csharp",
   "name": "C#",
   "pygments_lexer": "csharp",
   "version": "8.0"
  }
 },
 "nbformat": 4,
 "nbformat_minor": 5
}
